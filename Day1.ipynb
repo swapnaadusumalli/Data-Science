{
 "cells": [
  {
   "cell_type": "code",
   "execution_count": null,
   "metadata": {},
   "outputs": [],
   "source": [
    "#Questions 1:\n",
    "#Given the following jumbled word, OBANWRI guess the correct English word.\n",
    "#A. RANIBOW\n",
    "#B. RAINBOW\n",
    "#C. BOWRANI\n",
    "#D. ROBWANI\n",
    "\n",
    "Ans:A,B"
   ]
  },
  {
   "cell_type": "code",
   "execution_count": 4,
   "metadata": {},
   "outputs": [
    {
     "name": "stdout",
     "output_type": "stream",
     "text": [
      "The out put is  LETS UPGRADE\n"
     ]
    }
   ],
   "source": [
    "#Questions 2:\n",
    "#Write a program which prints “LETS UPGRADE”. (Please note that you have to\n",
    "#print in ALL CAPS as given)\n",
    "\n",
    "user_input = \"Lets Upgrade\"\n",
    "print(\"The out put is \",user_input.upper())\n",
    "\n"
   ]
  },
  {
   "cell_type": "code",
   "execution_count": 9,
   "metadata": {},
   "outputs": [
    {
     "name": "stdout",
     "output_type": "stream",
     "text": [
      " Please Enter the Actual Product Price: 2\n",
      " Please Enter the Sales Amount: 2\n",
      "Neither!!!\n"
     ]
    }
   ],
   "source": [
    "#Questions 3:\n",
    "#Write a program that takes cost price and selling price as input and displays whether the transaction is a\n",
    "#Profit or a Loss or Neither.\n",
    "\n",
    "actual_cost = float(input(\" Please Enter the Actual Product Price: \"))\n",
    "sale_amount = float(input(\" Please Enter the Sales Amount: \"))\n",
    " \n",
    "if(actual_cost > sale_amount):\n",
    "    amount = actual_cost - sale_amount\n",
    "    print(\"The Transaction is Loss.Total Loss Amount = \",amount)\n",
    "elif(sale_amount > actual_cost):\n",
    "    amount = sale_amount - actual_cost\n",
    "    print(\"The Transaction is Profit.Total Profit Amount= \",(amount))\n",
    "else:\n",
    "    print(\"Neither!!!\")"
   ]
  },
  {
   "cell_type": "code",
   "execution_count": 17,
   "metadata": {},
   "outputs": [
    {
     "name": "stdout",
     "output_type": "stream",
     "text": [
      "34\n",
      "56\n",
      "Profit\n"
     ]
    }
   ],
   "source": [
    "#Questions 4:\n",
    "#Write a program that takes cost price and selling price as input and displays whether the transaction is a\n",
    "#Profit or a Loss or Neither\n",
    "actual_cost = int(input())\n",
    "sale_amount = int(input())\n",
    " \n",
    "if(actual_cost > sale_amount):\n",
    "    amount = actual_cost - sale_amount\n",
    "    print(\"Loss\")\n",
    "elif(sale_amount > actual_cost):\n",
    "    amount = sale_amount - actual_cost\n",
    "    print(\"Profit\")\n",
    "else:\n",
    "    print(\"Neither\")"
   ]
  },
  {
   "cell_type": "code",
   "execution_count": 16,
   "metadata": {},
   "outputs": [
    {
     "name": "stdout",
     "output_type": "stream",
     "text": [
      "50\n",
      "4000\n"
     ]
    }
   ],
   "source": [
    "#Questions 5:\n",
    "#Write a program that takes an amount in Indian Rupees as input. You need to find its equivalent\n",
    "#in Euro and display it. Assume 1 Euro equals Rs. 80.\n",
    "\n",
    "amount=int(input())\n",
    "euro=80*amount\n",
    "print(euro)"
   ]
  },
  {
   "cell_type": "code",
   "execution_count": null,
   "metadata": {},
   "outputs": [],
   "source": []
  }
 ],
 "metadata": {
  "kernelspec": {
   "display_name": "Python 3",
   "language": "python",
   "name": "python3"
  },
  "language_info": {
   "codemirror_mode": {
    "name": "ipython",
    "version": 3
   },
   "file_extension": ".py",
   "mimetype": "text/x-python",
   "name": "python",
   "nbconvert_exporter": "python",
   "pygments_lexer": "ipython3",
   "version": "3.7.6"
  },
  "toc": {
   "base_numbering": 1,
   "nav_menu": {},
   "number_sections": true,
   "sideBar": true,
   "skip_h1_title": false,
   "title_cell": "Table of Contents",
   "title_sidebar": "Contents",
   "toc_cell": false,
   "toc_position": {},
   "toc_section_display": true,
   "toc_window_display": false
  }
 },
 "nbformat": 4,
 "nbformat_minor": 4
}
