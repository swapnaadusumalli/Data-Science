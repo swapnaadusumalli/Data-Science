{
 "cells": [
  {
   "cell_type": "code",
   "execution_count": 20,
   "metadata": {},
   "outputs": [
    {
     "name": "stdout",
     "output_type": "stream",
     "text": [
      "\n",
      "\n",
      "Enter number at location 0 :\n",
      "2\n",
      "Enter number at location 1 :\n",
      "3\n",
      "Enter number at location 2 :\n",
      "4\n",
      "Enter number at location 3 :\n",
      "5\n",
      "Enter number at location 4 :\n",
      "6\n",
      "Enter number at location 5 :\n",
      "7\n",
      "Enter number at location 6 :\n",
      "8\n",
      "Enter number at location 7 :\n",
      "9\n",
      "Enter number at location 8 :\n",
      "10\n",
      "Enter number at location 9 :\n",
      "56\n",
      "User List is  [2, 4, 6, 8, 10, 56]\n"
     ]
    }
   ],
   "source": [
    "#1.Create an empty list. Accept 10 numbers from the user and append to it the list if it is an even number.\n",
    "\n",
    "numberList = []\n",
    "n = 10\n",
    "\n",
    "print(\"\\n\")\n",
    "for i in range(0, n):\n",
    "    print(\"Enter number at location\", i, \":\")\n",
    "    item = int(input())\n",
    "    if item % 2 == 0:\n",
    "        numberList.append(item)\n",
    "print(\"User List is \", numberList)"
   ]
  },
  {
   "cell_type": "code",
   "execution_count": 1,
   "metadata": {},
   "outputs": [
    {
     "name": "stdout",
     "output_type": "stream",
     "text": [
      "[2, 4, 6, 8]\n"
     ]
    }
   ],
   "source": [
    "#2.Create a notebook on LIST COMPREHENSION. This exercise is to put you in a Self learning mode\n",
    "# creating a list\n",
    "lst = [1, 2, 3, 4, 5, 6, 7, 8]\n",
    "\n",
    "# list comprehensions\n",
    "even_lst = [i for i in lst if i%2==0 ]\n",
    "\n",
    "print(even_lst)"
   ]
  },
  {
   "cell_type": "code",
   "execution_count": 42,
   "metadata": {},
   "outputs": [
    {
     "name": "stdout",
     "output_type": "stream",
     "text": [
      "Input a number 5\n",
      "{1: 1, 2: 4, 3: 9, 4: 16, 5: 25}\n"
     ]
    }
   ],
   "source": [
    "#3.You have seen in the videos how powerful dictionary data structure is.In this assignment, given a number n, you have to write a program that generates a dictionary d which\n",
    "#contains (i, i*i), where i is from 1 to n (both included).Then you have to just print this dictionary d.\n",
    "\n",
    "n=int(input(\"Input a number \"))\n",
    "d = dict()\n",
    "\n",
    "for x in range(1,n+1):\n",
    "    d[x]=x*x\n",
    "\n",
    "print(d) "
   ]
  },
  {
   "cell_type": "code",
   "execution_count": 1,
   "metadata": {},
   "outputs": [
    {
     "name": "stdout",
     "output_type": "stream",
     "text": [
      "4\n",
      "UP 5\n",
      "DOWN 3\n",
      "LEFT 3\n",
      "RIGHT 2\n",
      "2\n"
     ]
    }
   ],
   "source": [
    "#4.There is a robot which wants to go the charging point to charge itself.The robot moves in a 2-D plane from the original point (0,0). The robot can\n",
    "#move toward UP, DOWN, LEFT and RIGHT with given steps.\n",
    "\n",
    "pos = {\"x\":0,\"y\":0}\n",
    "num = int(input())\n",
    "\n",
    "for _ in range (num):\n",
    "    command =  input().split(\" \")      # ACCEPT MOVEMENT COMMAND AND STORE AS A LIST\n",
    "    if command[0] == \"UP\":             # EXTRACT DIRECTION AND COMPARE\n",
    "        pos[\"y\"] += int(command[1])    # INCREMENT/DECREMENT APPROPRIATE CO-ORDINATES\n",
    "    if command[0] == \"DOWN\":\n",
    "        pos[\"y\"] -= int(command[1])\n",
    "    if command[0] == \"LEFT\":\n",
    "        pos[\"x\"] -= int(command[1])\n",
    "    if command[0] == \"RIGHT\":\n",
    "        pos[\"x\"] += int(command[1])\n",
    "\n",
    "print(int(round((pos[\"x\"]**2 + pos[\"y\"]**2)**0.5)))   # DISTANCE FROM ORIGIN"
   ]
  },
  {
   "cell_type": "code",
   "execution_count": null,
   "metadata": {},
   "outputs": [],
   "source": []
  }
 ],
 "metadata": {
  "kernelspec": {
   "display_name": "Python 3",
   "language": "python",
   "name": "python3"
  },
  "language_info": {
   "codemirror_mode": {
    "name": "ipython",
    "version": 3
   },
   "file_extension": ".py",
   "mimetype": "text/x-python",
   "name": "python",
   "nbconvert_exporter": "python",
   "pygments_lexer": "ipython3",
   "version": "3.7.6"
  },
  "toc": {
   "base_numbering": 1,
   "nav_menu": {},
   "number_sections": true,
   "sideBar": true,
   "skip_h1_title": false,
   "title_cell": "Table of Contents",
   "title_sidebar": "Contents",
   "toc_cell": false,
   "toc_position": {},
   "toc_section_display": true,
   "toc_window_display": false
  }
 },
 "nbformat": 4,
 "nbformat_minor": 4
}
