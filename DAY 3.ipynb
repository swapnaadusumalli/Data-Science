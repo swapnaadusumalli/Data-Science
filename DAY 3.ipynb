{
 "cells": [
  {
   "cell_type": "code",
   "execution_count": 4,
   "metadata": {},
   "outputs": [
    {
     "name": "stdout",
     "output_type": "stream",
     "text": [
      "[ 2  5  8 11 14 17 20 23 26 29 32 35 38 41 44 47]\n"
     ]
    }
   ],
   "source": [
    "#1.Create a numpy array starting from 2 till 50 with a stepsize of 3.\n",
    "\n",
    "import numpy as np\n",
    "a = np.arange(2,50,3)\n",
    "print(a)"
   ]
  },
  {
   "cell_type": "code",
   "execution_count": 19,
   "metadata": {},
   "outputs": [
    {
     "name": "stdout",
     "output_type": "stream",
     "text": [
      "Enter 5 values for List1\n",
      "2\n",
      "1\n",
      "3\n",
      "5\n",
      "4\n",
      "The List1 is : [2, 1, 3, 5, 4]\n",
      "Enter 5 values for List2\n",
      "9\n",
      "6\n",
      "8\n",
      "10\n",
      "7\n",
      "The List2 is : [9, 6, 8, 10, 7]\n",
      "numpy array1 [2 1 3 5 4]\n",
      "numpy array2 [ 9  6  8 10  7]\n",
      "concatenated array z is  [ 2  1  3  5  4  9  6  8 10  7]\n",
      "sorted array [ 1  2  3  4  5  6  7  8  9 10]\n"
     ]
    }
   ],
   "source": [
    "#2.Accept two lists of 5 elements each from the user.Convert them to numpy arrays. Concatenate these arrays and print it. Also sort these arrays and print it.\n",
    "\n",
    "import numpy as np\n",
    "# creating an empty list \n",
    "lst = [] \n",
    "lst1 = [] \n",
    "  \n",
    "print(\"Enter 5 values for List1\") \n",
    "# iterating till the range \n",
    "for i in range(0, 5): \n",
    "    ele = int(input()) \n",
    "  \n",
    "    lst.append(ele) # adding the element \n",
    "      \n",
    "print(\"The List1 is :\",lst) \n",
    "\n",
    "\n",
    "print(\"Enter 5 values for List2\") \n",
    "# iterating till the range \n",
    "for i in range(0, 5): \n",
    "    ele1 = int(input()) \n",
    "  \n",
    "    lst1.append(ele1) # adding the element \n",
    "      \n",
    "print(\"The List2 is :\",lst1) \n",
    "\n",
    "a = np.array(lst)\n",
    "print(\"numpy array1\",a)\n",
    "\n",
    "b = np.array(lst1)\n",
    "print(\"numpy array2\",b)\n",
    "\n",
    "z=np.concatenate((a,b))  \n",
    "print(\"concatenated array z is \",z)\n",
    "print(\"sorted array\",np.sort(z))\n"
   ]
  },
  {
   "cell_type": "code",
   "execution_count": 37,
   "metadata": {},
   "outputs": [
    {
     "name": "stdout",
     "output_type": "stream",
     "text": [
      "Shape of array:  (2, 3)\n",
      "Size of array:  6\n"
     ]
    }
   ],
   "source": [
    "#3.Write a code snippet to find the dimensions of a ndarray and its size.\n",
    "import numpy as np\n",
    " \n",
    "# Creating array object\n",
    "arr = np.array( [[ 1, 2, 3],\n",
    "                 [ 4, 2, 5]] )\n",
    " \n",
    "# Printing type of arr object\n",
    "#print(\"Array is of type: \", type(arr))\n",
    " \n",
    "# Printing array dimensions (axes)\n",
    "#print(\"No. of dimensions: \", arr.ndim)\n",
    " \n",
    "# Printing shape of array\n",
    "print(\"Shape of array: \", arr.shape)\n",
    " \n",
    "# Printing size (total number of elements) of array\n",
    "print(\"Size of array: \", arr.size)\n",
    " \n",
    "# Printing type of elements in array\n",
    "#print(\"Array stores elements of type: \", arr.dtype)\n"
   ]
  },
  {
   "cell_type": "code",
   "execution_count": 34,
   "metadata": {},
   "outputs": [
    {
     "name": "stdout",
     "output_type": "stream",
     "text": [
      "1D array  : [1 2 3 4 5 6]\n",
      "1D array shape : (6,)\n",
      "2D array  : [[1 2 3 4 5 6]]\n",
      "After converting a 1D array into a 2D array the shape : (1, 6)\n"
     ]
    }
   ],
   "source": [
    "#4.How to convert a 1D array into a 2D array? Demonstrate with the help of a code snippet Hint: np.newaxis, np.expand_dims\n",
    "\n",
    "import numpy as np\n",
    "a = np.array([1, 2, 3, 4, 5, 6])\n",
    "print(\"1D array  :\",a)\n",
    "print(\"1D array shape :\",a.shape)\n",
    "\n",
    "a1 = a[np.newaxis, :]\n",
    "print(\"2D array  :\",a1)\n",
    "print(\"After converting a 1D array into a 2D array the shape :\",a1.shape)"
   ]
  },
  {
   "cell_type": "code",
   "execution_count": 35,
   "metadata": {},
   "outputs": [
    {
     "name": "stdout",
     "output_type": "stream",
     "text": [
      "Source Array1:\n",
      " [1 2 3]\n",
      "Squared Array1:\n",
      " [1 4 9]\n",
      "Source Array1:\n",
      " [4 5 6]\n",
      "Squared Array1:\n",
      " [16 25 36]\n",
      "Horizontal Append: [ 1  4  9 16 25 36]\n",
      "Vertical Append: [[ 1  4  9]\n",
      " [16 25 36]]\n"
     ]
    }
   ],
   "source": [
    "#5.Consider two square numpy arrays. Stack them vertically and horizontally.Hint: Use vstack(), hstack()\n",
    "\n",
    "\n",
    "import numpy as np\n",
    "\n",
    "array_2d = np.array([1, 2, 3])\n",
    "\n",
    "print(\"Source Array1:\\n\",array_2d)\n",
    "\n",
    "array_2d_square = np.square(array_2d)\n",
    "\n",
    "print(\"Squared Array1:\\n\",array_2d_square)\n",
    "\n",
    "\n",
    "array_2d1 = np.array([4, 5, 6])\n",
    "\n",
    "print(\"Source Array1:\\n\",array_2d1)\n",
    "\n",
    "array_2d_square1 = np.square(array_2d1)\n",
    "\n",
    "print(\"Squared Array1:\\n\",array_2d_square1)\n",
    "\n",
    "\n",
    "\n",
    "print('Horizontal Append:', np.hstack((array_2d_square, array_2d_square1)))\n",
    "\n",
    "print('Vertical Append:', np.vstack((array_2d_square, array_2d_square1)))"
   ]
  },
  {
   "cell_type": "code",
   "execution_count": 31,
   "metadata": {},
   "outputs": [
    {
     "name": "stdout",
     "output_type": "stream",
     "text": [
      "unique items : [0 1 2 3 4]\n",
      "counts of unique items : 5\n"
     ]
    }
   ],
   "source": [
    "# 6.How to get unique items and counts of unique items?\n",
    "\n",
    "import numpy as np\n",
    "a=np.unique([0,1,2,0,2,3,4,3,0,4])\n",
    "print(\"unique items :\",a)\n",
    "print(\"counts of unique items :\",len(a))\n"
   ]
  },
  {
   "cell_type": "code",
   "execution_count": null,
   "metadata": {},
   "outputs": [],
   "source": []
  }
 ],
 "metadata": {
  "kernelspec": {
   "display_name": "Python 3",
   "language": "python",
   "name": "python3"
  },
  "language_info": {
   "codemirror_mode": {
    "name": "ipython",
    "version": 3
   },
   "file_extension": ".py",
   "mimetype": "text/x-python",
   "name": "python",
   "nbconvert_exporter": "python",
   "pygments_lexer": "ipython3",
   "version": "3.7.6"
  },
  "toc": {
   "base_numbering": 1,
   "nav_menu": {},
   "number_sections": true,
   "sideBar": true,
   "skip_h1_title": false,
   "title_cell": "Table of Contents",
   "title_sidebar": "Contents",
   "toc_cell": false,
   "toc_position": {},
   "toc_section_display": true,
   "toc_window_display": false
  }
 },
 "nbformat": 4,
 "nbformat_minor": 4
}
